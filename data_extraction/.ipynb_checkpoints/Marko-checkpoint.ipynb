{
 "cells": [
  {
   "cell_type": "code",
   "execution_count": 2,
   "metadata": {},
   "outputs": [],
   "source": [
    "from sqlalchemy import create_engine\n",
    "import sys, os\n",
    "import pandas as pd\n",
    "\n",
    "constr = 'mysql+pymysql://{user}:{pwd}@{host}'.format(user=os.environ['MYSQL_USERNAME'],\n",
    "                                                      pwd=os.environ['MYSQL_PASSWORD'],\n",
    "                                                      host=os.environ['MYSQL_HOST'])\n",
    "con = create_engine(constr)\n",
    "\n",
    "df = pd.read_sql('select * from plwiki_p.logging limit 10', con)"
   ]
  },
  {
   "cell_type": "code",
   "execution_count": 25,
   "metadata": {},
   "outputs": [],
   "source": [
    "# Get all pages not translated to English from ukrainan wikipedia\n",
    "\n",
    "df2 = pd.read_sql('''\n",
    "SELECT \n",
    "    ips_item_id AS wikidata, \n",
    "    ips_site_page AS title\n",
    "FROM \n",
    "    wikidatawiki_p.wb_items_per_site \n",
    "WHERE \n",
    "    ips_site_id = 'ukwiki' AND \n",
    "    ips_item_id NOT IN (\n",
    "        SELECT \n",
    "            ips_item_id \n",
    "        FROM \n",
    "            wikidatawiki_p.wb_items_per_site \n",
    "        WHERE \n",
    "            ips_site_id= 'enwiki')''', con)"
   ]
  },
  {
   "cell_type": "code",
   "execution_count": 27,
   "metadata": {},
   "outputs": [],
   "source": [
    "df2.title = df2.title.str.decode(\"utf-8\")\n",
    "df2.to_csv('uk_not_translated.csv', index=False)"
   ]
  },
  {
   "cell_type": "code",
   "execution_count": 28,
   "metadata": {},
   "outputs": [
    {
     "data": {
      "text/html": [
       "<div>\n",
       "<style scoped>\n",
       "    .dataframe tbody tr th:only-of-type {\n",
       "        vertical-align: middle;\n",
       "    }\n",
       "\n",
       "    .dataframe tbody tr th {\n",
       "        vertical-align: top;\n",
       "    }\n",
       "\n",
       "    .dataframe thead th {\n",
       "        text-align: right;\n",
       "    }\n",
       "</style>\n",
       "<table border=\"1\" class=\"dataframe\">\n",
       "  <thead>\n",
       "    <tr style=\"text-align: right;\">\n",
       "      <th></th>\n",
       "      <th>wikidata</th>\n",
       "      <th>title</th>\n",
       "    </tr>\n",
       "  </thead>\n",
       "  <tbody>\n",
       "    <tr>\n",
       "      <th>0</th>\n",
       "      <td>12061549</td>\n",
       "      <td>! (альбом С.К.А.Й.)</td>\n",
       "    </tr>\n",
       "    <tr>\n",
       "      <th>1</th>\n",
       "      <td>4027682</td>\n",
       "      <td>!ФЕСТ</td>\n",
       "    </tr>\n",
       "    <tr>\n",
       "      <th>2</th>\n",
       "      <td>12061550</td>\n",
       "      <td>!Чидро</td>\n",
       "    </tr>\n",
       "    <tr>\n",
       "      <th>3</th>\n",
       "      <td>30196568</td>\n",
       "      <td>$uicideboy$</td>\n",
       "    </tr>\n",
       "    <tr>\n",
       "      <th>4</th>\n",
       "      <td>11511</td>\n",
       "      <td>&amp;RQ</td>\n",
       "    </tr>\n",
       "  </tbody>\n",
       "</table>\n",
       "</div>"
      ],
      "text/plain": [
       "   wikidata                title\n",
       "0  12061549  ! (альбом С.К.А.Й.)\n",
       "1   4027682                !ФЕСТ\n",
       "2  12061550               !Чидро\n",
       "3  30196568          $uicideboy$\n",
       "4     11511                  &RQ"
      ]
     },
     "execution_count": 28,
     "metadata": {},
     "output_type": "execute_result"
    }
   ],
   "source": [
    "df2.head()"
   ]
  },
  {
   "cell_type": "code",
   "execution_count": 30,
   "metadata": {},
   "outputs": [],
   "source": [
    "# Get all pages not translated to English from ukrainan wikipedia\n",
    "\n",
    "df_translated = pd.read_sql('''\n",
    "SELECT \n",
    "    ips_item_id AS wikidata, \n",
    "    ips_site_page AS title\n",
    "FROM \n",
    "    wikidatawiki_p.wb_items_per_site \n",
    "WHERE \n",
    "    ips_site_id = 'ukwiki' AND \n",
    "    ips_item_id IN (\n",
    "        SELECT \n",
    "            ips_item_id \n",
    "        FROM \n",
    "            wikidatawiki_p.wb_items_per_site \n",
    "        WHERE \n",
    "            ips_site_id= 'enwiki')''', con)"
   ]
  },
  {
   "cell_type": "code",
   "execution_count": 31,
   "metadata": {},
   "outputs": [],
   "source": [
    "df_translated.title = df_translated.title.str.decode(\"utf-8\")\n",
    "df_translated.to_csv('uk_translated.csv', index=False)"
   ]
  },
  {
   "cell_type": "code",
   "execution_count": 32,
   "metadata": {},
   "outputs": [
    {
     "data": {
      "text/html": [
       "<div>\n",
       "<style scoped>\n",
       "    .dataframe tbody tr th:only-of-type {\n",
       "        vertical-align: middle;\n",
       "    }\n",
       "\n",
       "    .dataframe tbody tr th {\n",
       "        vertical-align: top;\n",
       "    }\n",
       "\n",
       "    .dataframe thead th {\n",
       "        text-align: right;\n",
       "    }\n",
       "</style>\n",
       "<table border=\"1\" class=\"dataframe\">\n",
       "  <thead>\n",
       "    <tr style=\"text-align: right;\">\n",
       "      <th></th>\n",
       "      <th>wikidata</th>\n",
       "      <th>title</th>\n",
       "    </tr>\n",
       "  </thead>\n",
       "  <tbody>\n",
       "    <tr>\n",
       "      <th>0</th>\n",
       "      <td>4540205</td>\n",
       "      <td>! (альбом)</td>\n",
       "    </tr>\n",
       "    <tr>\n",
       "      <th>1</th>\n",
       "      <td>404000</td>\n",
       "      <td>! (значення)</td>\n",
       "    </tr>\n",
       "    <tr>\n",
       "      <th>2</th>\n",
       "      <td>353153</td>\n",
       "      <td>!! (значення)</td>\n",
       "    </tr>\n",
       "    <tr>\n",
       "      <th>3</th>\n",
       "      <td>371</td>\n",
       "      <td>!!!</td>\n",
       "    </tr>\n",
       "    <tr>\n",
       "      <th>4</th>\n",
       "      <td>343686</td>\n",
       "      <td>!Action Pact!</td>\n",
       "    </tr>\n",
       "  </tbody>\n",
       "</table>\n",
       "</div>"
      ],
      "text/plain": [
       "   wikidata          title\n",
       "0   4540205     ! (альбом)\n",
       "1    404000   ! (значення)\n",
       "2    353153  !! (значення)\n",
       "3       371            !!!\n",
       "4    343686  !Action Pact!"
      ]
     },
     "execution_count": 32,
     "metadata": {},
     "output_type": "execute_result"
    }
   ],
   "source": [
    "df_translated.head()"
   ]
  },
  {
   "cell_type": "code",
   "execution_count": 33,
   "metadata": {},
   "outputs": [],
   "source": [
    "# Get all (pageId, title) from ukrainan wikipedia\n",
    "\n",
    "q_uk_page = \"\"\"\n",
    "SELECT page_id as id,\n",
    "       page_title as title\n",
    "from ukwiki_p.page as uk_page\n",
    "where page_namespace=0\n",
    "\"\"\"\n",
    "df_uk_page = pd.read_sql(q_uk_page, con)"
   ]
  },
  {
   "cell_type": "code",
   "execution_count": 36,
   "metadata": {},
   "outputs": [],
   "source": [
    "df_uk_page.title = df_uk_page.title.str.decode(\"utf-8\")\n",
    "df_uk_page.to_csv('all_uk_pages.csv', index=False)"
   ]
  },
  {
   "cell_type": "code",
   "execution_count": 37,
   "metadata": {},
   "outputs": [
    {
     "data": {
      "text/html": [
       "<div>\n",
       "<style scoped>\n",
       "    .dataframe tbody tr th:only-of-type {\n",
       "        vertical-align: middle;\n",
       "    }\n",
       "\n",
       "    .dataframe tbody tr th {\n",
       "        vertical-align: top;\n",
       "    }\n",
       "\n",
       "    .dataframe thead th {\n",
       "        text-align: right;\n",
       "    }\n",
       "</style>\n",
       "<table border=\"1\" class=\"dataframe\">\n",
       "  <thead>\n",
       "    <tr style=\"text-align: right;\">\n",
       "      <th></th>\n",
       "      <th>id</th>\n",
       "      <th>title</th>\n",
       "    </tr>\n",
       "  </thead>\n",
       "  <tbody>\n",
       "    <tr>\n",
       "      <th>0</th>\n",
       "      <td>829961</td>\n",
       "      <td>!</td>\n",
       "    </tr>\n",
       "    <tr>\n",
       "      <th>1</th>\n",
       "      <td>2062457</td>\n",
       "      <td>!!</td>\n",
       "    </tr>\n",
       "    <tr>\n",
       "      <th>2</th>\n",
       "      <td>425480</td>\n",
       "      <td>!!!</td>\n",
       "    </tr>\n",
       "    <tr>\n",
       "      <th>3</th>\n",
       "      <td>2591631</td>\n",
       "      <td>!!!Fuck_You!!!_and_Then_Some</td>\n",
       "    </tr>\n",
       "    <tr>\n",
       "      <th>4</th>\n",
       "      <td>2141483</td>\n",
       "      <td>!!_(значення)</td>\n",
       "    </tr>\n",
       "  </tbody>\n",
       "</table>\n",
       "</div>"
      ],
      "text/plain": [
       "        id                         title\n",
       "0   829961                             !\n",
       "1  2062457                            !!\n",
       "2   425480                           !!!\n",
       "3  2591631  !!!Fuck_You!!!_and_Then_Some\n",
       "4  2141483                 !!_(значення)"
      ]
     },
     "execution_count": 37,
     "metadata": {},
     "output_type": "execute_result"
    }
   ],
   "source": [
    "df_uk_page.head()"
   ]
  },
  {
   "cell_type": "code",
   "execution_count": 149,
   "metadata": {},
   "outputs": [],
   "source": [
    "df_uk_page['encoded_title'] = df_uk_page.title.str.decode(\"utf-8\")"
   ]
  },
  {
   "cell_type": "code",
   "execution_count": 150,
   "metadata": {},
   "outputs": [
    {
     "data": {
      "text/plain": [
       "0                                !\n",
       "1                               !!\n",
       "2                              !!!\n",
       "3     !!!Fuck_You!!!_and_Then_Some\n",
       "4                    !!_(значення)\n",
       "5                     !Action_Pact\n",
       "6                    !Action_Pact!\n",
       "7                        !T.O.O.H.\n",
       "8                       !T.O.O.H.!\n",
       "9                       !_(альбом)\n",
       "10             !_(альбом_С.К.А.Й.)\n",
       "11                    !_(значення)\n",
       "12                           !fest\n",
       "13                           !ФЕСТ\n",
       "14                          !Чидро\n",
       "Name: encoded_title, dtype: object"
      ]
     },
     "execution_count": 150,
     "metadata": {},
     "output_type": "execute_result"
    }
   ],
   "source": [
    "df_uk_page['encoded_title'][:15]"
   ]
  },
  {
   "cell_type": "code",
   "execution_count": 143,
   "metadata": {},
   "outputs": [
    {
     "data": {
      "text/html": [
       "<div>\n",
       "<style scoped>\n",
       "    .dataframe tbody tr th:only-of-type {\n",
       "        vertical-align: middle;\n",
       "    }\n",
       "\n",
       "    .dataframe tbody tr th {\n",
       "        vertical-align: top;\n",
       "    }\n",
       "\n",
       "    .dataframe thead th {\n",
       "        text-align: right;\n",
       "    }\n",
       "</style>\n",
       "<table border=\"1\" class=\"dataframe\">\n",
       "  <thead>\n",
       "    <tr style=\"text-align: right;\">\n",
       "      <th></th>\n",
       "      <th>article</th>\n",
       "      <th>views</th>\n",
       "      <th>rank</th>\n",
       "    </tr>\n",
       "  </thead>\n",
       "  <tbody>\n",
       "    <tr>\n",
       "      <th>0</th>\n",
       "      <td>Головна_сторінка</td>\n",
       "      <td>611</td>\n",
       "      <td>1</td>\n",
       "    </tr>\n",
       "    <tr>\n",
       "      <th>1</th>\n",
       "      <td>Окуєва_Аміна_Вікторівна</td>\n",
       "      <td>317</td>\n",
       "      <td>2</td>\n",
       "    </tr>\n",
       "    <tr>\n",
       "      <th>2</th>\n",
       "      <td>Хелловін</td>\n",
       "      <td>109</td>\n",
       "      <td>3</td>\n",
       "    </tr>\n",
       "    <tr>\n",
       "      <th>3</th>\n",
       "      <td>Адам_Осмаєв</td>\n",
       "      <td>86</td>\n",
       "      <td>4</td>\n",
       "    </tr>\n",
       "    <tr>\n",
       "      <th>4</th>\n",
       "      <td>Шевченко_Тарас_Григорович</td>\n",
       "      <td>82</td>\n",
       "      <td>5</td>\n",
       "    </tr>\n",
       "  </tbody>\n",
       "</table>\n",
       "</div>"
      ],
      "text/plain": [
       "                     article  views  rank\n",
       "0           Головна_сторінка    611     1\n",
       "1    Окуєва_Аміна_Вікторівна    317     2\n",
       "2                   Хелловін    109     3\n",
       "3                Адам_Осмаєв     86     4\n",
       "4  Шевченко_Тарас_Григорович     82     5"
      ]
     },
     "execution_count": 143,
     "metadata": {},
     "output_type": "execute_result"
    }
   ],
   "source": [
    "# read most_viewed_uk_2017 json and convert to normal pandas structure\n",
    "most_viewed_uk_2017 = pd.read_json('Most view articles in the Ukranian wiki in 2017 Nov.json', lines=False)\n",
    "most_viewed_uk_2017 = most_viewed_uk_2017['items'].apply(pd.Series)\n",
    "most_viewed_uk_2017.head()"
   ]
  },
  {
   "cell_type": "code",
   "execution_count": 3,
   "metadata": {},
   "outputs": [
    {
     "ename": "NameError",
     "evalue": "name 'df_uk_page' is not defined",
     "output_type": "error",
     "traceback": [
      "\u001b[0;31m---------------------------------------------------------------------------\u001b[0m",
      "\u001b[0;31mNameError\u001b[0m                                 Traceback (most recent call last)",
      "\u001b[0;32m<ipython-input-3-5d496fa34541>\u001b[0m in \u001b[0;36m<module>\u001b[0;34m()\u001b[0m\n\u001b[0;32m----> 1\u001b[0;31m \u001b[0;34m\"Окуєва_Аміна_Вікторівна\"\u001b[0m \u001b[0;32min\u001b[0m \u001b[0mdf_uk_page\u001b[0m\u001b[0;34m[\u001b[0m\u001b[0;34m'encoded_title'\u001b[0m\u001b[0;34m]\u001b[0m\u001b[0;34m.\u001b[0m\u001b[0munique\u001b[0m\u001b[0;34m(\u001b[0m\u001b[0;34m)\u001b[0m\u001b[0;34m\u001b[0m\u001b[0m\n\u001b[0m",
      "\u001b[0;31mNameError\u001b[0m: name 'df_uk_page' is not defined"
     ]
    }
   ],
   "source": [
    "\"Окуєва_Аміна_Вікторівна\" in df_uk_page['encoded_title'].unique()"
   ]
  },
  {
   "cell_type": "code",
   "execution_count": 159,
   "metadata": {},
   "outputs": [],
   "source": [
    "uk_articles_that_have_2017_review_data = df_uk_page.encoded_title.isin(most_viewed_uk_2017.article)"
   ]
  },
  {
   "cell_type": "code",
   "execution_count": 161,
   "metadata": {},
   "outputs": [
    {
     "data": {
      "text/html": [
       "<div>\n",
       "<style scoped>\n",
       "    .dataframe tbody tr th:only-of-type {\n",
       "        vertical-align: middle;\n",
       "    }\n",
       "\n",
       "    .dataframe tbody tr th {\n",
       "        vertical-align: top;\n",
       "    }\n",
       "\n",
       "    .dataframe thead th {\n",
       "        text-align: right;\n",
       "    }\n",
       "</style>\n",
       "<table border=\"1\" class=\"dataframe\">\n",
       "  <thead>\n",
       "    <tr style=\"text-align: right;\">\n",
       "      <th></th>\n",
       "      <th>id</th>\n",
       "      <th>title</th>\n",
       "      <th>encoded_title</th>\n",
       "    </tr>\n",
       "  </thead>\n",
       "  <tbody>\n",
       "    <tr>\n",
       "      <th>20596</th>\n",
       "      <td>1394</td>\n",
       "      <td>b'1_\\xd0\\xbb\\xd0\\xb8\\xd1\\x81\\xd1\\x82\\xd0\\xbe\\x...</td>\n",
       "      <td>1_листопада</td>\n",
       "    </tr>\n",
       "    <tr>\n",
       "      <th>29401</th>\n",
       "      <td>1633568</td>\n",
       "      <td>b'2K'</td>\n",
       "      <td>2K</td>\n",
       "    </tr>\n",
       "    <tr>\n",
       "      <th>29473</th>\n",
       "      <td>1411</td>\n",
       "      <td>b'2_\\xd0\\xbb\\xd0\\xb8\\xd1\\x81\\xd1\\x82\\xd0\\xbe\\x...</td>\n",
       "      <td>2_листопада</td>\n",
       "    </tr>\n",
       "    <tr>\n",
       "      <th>29884</th>\n",
       "      <td>2664596</td>\n",
       "      <td>b'300_\\xd1\\x81\\xd0\\xbf\\xd0\\xb0\\xd1\\x80\\xd1\\x82...</td>\n",
       "      <td>300_спартанців</td>\n",
       "    </tr>\n",
       "    <tr>\n",
       "      <th>53092</th>\n",
       "      <td>1083697</td>\n",
       "      <td>b'A3_(\\xd0\\xbf\\xd0\\xb0\\xd0\\xbf\\xd1\\x96\\xd1\\x80)'</td>\n",
       "      <td>A3_(папір)</td>\n",
       "    </tr>\n",
       "  </tbody>\n",
       "</table>\n",
       "</div>"
      ],
      "text/plain": [
       "            id                                              title  \\\n",
       "20596     1394  b'1_\\xd0\\xbb\\xd0\\xb8\\xd1\\x81\\xd1\\x82\\xd0\\xbe\\x...   \n",
       "29401  1633568                                              b'2K'   \n",
       "29473     1411  b'2_\\xd0\\xbb\\xd0\\xb8\\xd1\\x81\\xd1\\x82\\xd0\\xbe\\x...   \n",
       "29884  2664596  b'300_\\xd1\\x81\\xd0\\xbf\\xd0\\xb0\\xd1\\x80\\xd1\\x82...   \n",
       "53092  1083697   b'A3_(\\xd0\\xbf\\xd0\\xb0\\xd0\\xbf\\xd1\\x96\\xd1\\x80)'   \n",
       "\n",
       "        encoded_title  \n",
       "20596     1_листопада  \n",
       "29401              2K  \n",
       "29473     2_листопада  \n",
       "29884  300_спартанців  \n",
       "53092      A3_(папір)  "
      ]
     },
     "execution_count": 161,
     "metadata": {},
     "output_type": "execute_result"
    }
   ],
   "source": [
    "pd.mergedf_uk_page[uk_articles_that_have_2017_review_data]"
   ]
  },
  {
   "cell_type": "code",
   "execution_count": 34,
   "metadata": {},
   "outputs": [
    {
     "name": "stderr",
     "output_type": "stream",
     "text": [
      "/srv/paws/lib/python3.6/site-packages/pymysql/cursors.py:170: Warning: (1052, \"Column 'page_id' in group statement is ambiguous\")\n",
      "  result = self._query(query)\n"
     ]
    }
   ],
   "source": [
    "q = '''\n",
    "SELECT rev_page as page_id,\n",
    "       count(*) as rev_count\n",
    "from ukwiki_p.revision as rev\n",
    "join ukwiki_p.page as p\n",
    "    on p.page_id = rev.rev_page\n",
    "    where p.page_namespace=0\n",
    "group by page_id\n",
    "'''\n",
    "revs = pd.read_sql(q, con)"
   ]
  },
  {
   "cell_type": "code",
   "execution_count": 36,
   "metadata": {},
   "outputs": [
    {
     "data": {
      "text/plain": [
       "(1245962, 2)"
      ]
     },
     "execution_count": 36,
     "metadata": {},
     "output_type": "execute_result"
    }
   ],
   "source": [
    "revs.shape"
   ]
  },
  {
   "cell_type": "code",
   "execution_count": 38,
   "metadata": {},
   "outputs": [
    {
     "data": {
      "text/html": [
       "<div>\n",
       "<style scoped>\n",
       "    .dataframe tbody tr th:only-of-type {\n",
       "        vertical-align: middle;\n",
       "    }\n",
       "\n",
       "    .dataframe tbody tr th {\n",
       "        vertical-align: top;\n",
       "    }\n",
       "\n",
       "    .dataframe thead th {\n",
       "        text-align: right;\n",
       "    }\n",
       "</style>\n",
       "<table border=\"1\" class=\"dataframe\">\n",
       "  <thead>\n",
       "    <tr style=\"text-align: right;\">\n",
       "      <th></th>\n",
       "      <th>page_id</th>\n",
       "      <th>rev_count</th>\n",
       "    </tr>\n",
       "  </thead>\n",
       "  <tbody>\n",
       "    <tr>\n",
       "      <th>0</th>\n",
       "      <td>2</td>\n",
       "      <td>6</td>\n",
       "    </tr>\n",
       "    <tr>\n",
       "      <th>1</th>\n",
       "      <td>3</td>\n",
       "      <td>408</td>\n",
       "    </tr>\n",
       "    <tr>\n",
       "      <th>2</th>\n",
       "      <td>6</td>\n",
       "      <td>6</td>\n",
       "    </tr>\n",
       "    <tr>\n",
       "      <th>3</th>\n",
       "      <td>9</td>\n",
       "      <td>4</td>\n",
       "    </tr>\n",
       "    <tr>\n",
       "      <th>4</th>\n",
       "      <td>13</td>\n",
       "      <td>340</td>\n",
       "    </tr>\n",
       "  </tbody>\n",
       "</table>\n",
       "</div>"
      ],
      "text/plain": [
       "   page_id  rev_count\n",
       "0        2          6\n",
       "1        3        408\n",
       "2        6          6\n",
       "3        9          4\n",
       "4       13        340"
      ]
     },
     "execution_count": 38,
     "metadata": {},
     "output_type": "execute_result"
    }
   ],
   "source": [
    "revs.head()"
   ]
  },
  {
   "cell_type": "code",
   "execution_count": 39,
   "metadata": {},
   "outputs": [],
   "source": [
    "revs.to_csv('revisions_count.csv', index=False)"
   ]
  },
  {
   "cell_type": "code",
   "execution_count": 38,
   "metadata": {},
   "outputs": [],
   "source": [
    "q = \"\"\"\n",
    "SELECT page_id as id,\n",
    "       page_title as title,\n",
    "       page_len as len\n",
    "from ukwiki_p.page as uk_page\n",
    "where page_namespace=0\n",
    "\"\"\"\n",
    "df_uk_page = pd.read_sql(q, con)"
   ]
  },
  {
   "cell_type": "code",
   "execution_count": 40,
   "metadata": {},
   "outputs": [],
   "source": [
    "df_uk_page.title = df_uk_page.title.str.decode(\"utf-8\")\n",
    "df_uk_page.to_csv('all_uk_pages.csv', index=False)"
   ]
  },
  {
   "cell_type": "code",
   "execution_count": 21,
   "metadata": {},
   "outputs": [],
   "source": [
    "q = \"\"\"\n",
    "select cl_from as page_id\n",
    "from enwiki_p.categorylinks as cl\n",
    "join ukwiki_p.page as p\n",
    "    on p.page_id = cl.cl_from\n",
    "    and p.page_namespace=0 \n",
    "where cl.cl_to = 'Articles_needing_translation_from_Ukrainian_Wikipedia'\n",
    "\"\"\"\n",
    "df_uk_page = pd.read_sql(q, con)"
   ]
  },
  {
   "cell_type": "code",
   "execution_count": 22,
   "metadata": {},
   "outputs": [
    {
     "data": {
      "text/html": [
       "<div>\n",
       "<style scoped>\n",
       "    .dataframe tbody tr th:only-of-type {\n",
       "        vertical-align: middle;\n",
       "    }\n",
       "\n",
       "    .dataframe tbody tr th {\n",
       "        vertical-align: top;\n",
       "    }\n",
       "\n",
       "    .dataframe thead th {\n",
       "        text-align: right;\n",
       "    }\n",
       "</style>\n",
       "<table border=\"1\" class=\"dataframe\">\n",
       "  <thead>\n",
       "    <tr style=\"text-align: right;\">\n",
       "      <th></th>\n",
       "      <th>page_id</th>\n",
       "    </tr>\n",
       "  </thead>\n",
       "  <tbody>\n",
       "    <tr>\n",
       "      <th>0</th>\n",
       "      <td>1481810</td>\n",
       "    </tr>\n",
       "    <tr>\n",
       "      <th>1</th>\n",
       "      <td>1620858</td>\n",
       "    </tr>\n",
       "    <tr>\n",
       "      <th>2</th>\n",
       "      <td>1583341</td>\n",
       "    </tr>\n",
       "    <tr>\n",
       "      <th>3</th>\n",
       "      <td>2016412</td>\n",
       "    </tr>\n",
       "  </tbody>\n",
       "</table>\n",
       "</div>"
      ],
      "text/plain": [
       "   page_id\n",
       "0  1481810\n",
       "1  1620858\n",
       "2  1583341\n",
       "3  2016412"
      ]
     },
     "execution_count": 22,
     "metadata": {},
     "output_type": "execute_result"
    }
   ],
   "source": [
    "df_uk_page"
   ]
  },
  {
   "cell_type": "code",
   "execution_count": null,
   "metadata": {},
   "outputs": [],
   "source": []
  }
 ],
 "metadata": {
  "kernelspec": {
   "display_name": "Python 3",
   "language": "python",
   "name": "python3"
  },
  "language_info": {
   "codemirror_mode": {
    "name": "ipython",
    "version": 3
   },
   "file_extension": ".py",
   "mimetype": "text/x-python",
   "name": "python",
   "nbconvert_exporter": "python",
   "pygments_lexer": "ipython3",
   "version": "3.5.2"
  }
 },
 "nbformat": 4,
 "nbformat_minor": 2
}
